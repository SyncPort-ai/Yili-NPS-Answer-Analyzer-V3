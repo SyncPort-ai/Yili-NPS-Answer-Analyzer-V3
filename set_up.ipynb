{
 "cells": [
  {
   "cell_type": "code",
   "execution_count": 15,
   "metadata": {},
   "outputs": [
    {
     "name": "stdout",
     "output_type": "stream",
     "text": [
      "{'status_code': 200, 'status_message': '分析成功完成', 'result': [{'origion': '这名字挺有意思', 'ids': [372801], 'clean': '这名字挺有意思', 'aspect': '独特性', 'opinion': '名字有意思', 'aspect_opinion': '独特性_名字有意思', 'topic': '独特性与新颖性'}, {'origion': '挺有意思', 'ids': [372789], 'clean': '挺有意思', 'aspect': '独特性', 'opinion': '挺有意思', 'aspect_opinion': '独特性_挺有意思', 'topic': '独特性与新颖性'}, {'origion': '高蛋白适合我这种健身人群', 'ids': [372800], 'clean': '高蛋白适合我这种健身人群', 'aspect': '健身', 'opinion': '高蛋白适合健身人群', 'aspect_opinion': '健身_高蛋白适合健身人群', 'topic': '健身人群对高蛋白产品的偏好'}, {'origion': '感觉很新奇，想要尝试', 'ids': [372844], 'clean': '感觉很新奇，想要尝试', 'aspect': '创新', 'opinion': '感觉新奇想尝试', 'aspect_opinion': '创新_感觉新奇想尝试', 'topic': '新品吸引力与趣味性'}, {'origion': '方便在外面吃', 'ids': [372847], 'clean': '方便在外面吃', 'aspect': '方便', 'opinion': '方便在外吃', 'aspect_opinion': '方便_方便在外吃', 'topic': '便捷与适量'}, {'origion': '品牌值得信赖', 'ids': [372826], 'clean': '品牌值得信赖', 'aspect': '安全信赖', 'opinion': '品牌值得信赖', 'aspect_opinion': '安全信赖_品牌值得信赖', 'topic': '健康营养与信任感'}, {'origion': '名字很新颖', 'ids': [372809], 'clean': '名字很新颖', 'aspect': '独特性', 'opinion': '名字新颖', 'aspect_opinion': '独特性_名字新颖', 'topic': '独特性与新颖性'}, {'origion': '方便', 'ids': [372858], 'clean': '方便', 'aspect': '方便', 'opinion': '方便', 'aspect_opinion': '方便_方便', 'topic': '新品吸引力与趣味性'}, {'origion': '感觉层次很丰富', 'ids': [372821], 'clean': '感觉层次很丰富', 'aspect': '口味口感', 'opinion': '层次丰富', 'aspect_opinion': '口味口感_层次丰富', 'topic': '口味与口感多样性'}, {'origion': '好吃又好玩', 'ids': [372827], 'clean': '好吃又好玩', 'aspect': '口味口感', 'opinion': '好吃又好玩', 'aspect_opinion': '口味口感_好吃又好玩', 'topic': '口味与口感多样性'}, {'origion': '有跳跳糖', 'ids': [372804], 'clean': '有跳跳糖', 'aspect': '独特性', 'opinion': '有跳跳糖', 'aspect_opinion': '独特性_有跳跳糖', 'topic': '独特性与新颖性'}, {'origion': '有场景', 'ids': [372828], 'clean': '有场景', 'aspect': '场景', 'opinion': '有场景', 'aspect_opinion': '场景_有场景', 'topic': '新品吸引力与趣味性'}, {'origion': '能够让我充分了解产品的味道', 'ids': [372793], 'clean': '能够让我充分了解产品的味道', 'aspect': '口味口感', 'opinion': '充分了解产品味道', 'aspect_opinion': '口味口感_充分了解产品味道', 'topic': '口味与口感多样性'}, {'origion': '有趣', 'ids': [372842], 'clean': '有趣', 'aspect': '趣味性', 'opinion': '有趣', 'aspect_opinion': '趣味性_有趣', 'topic': '新品吸引力与趣味性'}, {'origion': '有特点', 'ids': [372794], 'clean': '有特点', 'aspect': '独特性', 'opinion': '有特点', 'aspect_opinion': '独特性_有特点', 'topic': '独特性与新颖性'}, {'origion': '有意思', 'ids': [372831], 'clean': '有意思', 'aspect': '独特性', 'opinion': '有意思', 'aspect_opinion': '独特性_有意思', 'topic': '独特性与新颖性'}, {'origion': '太甜', 'ids': [372814], 'clean': '太甜', 'aspect': '口味口感', 'opinion': '太甜', 'aspect_opinion': '口味口感_太甜', 'topic': '口味与口感多样性'}, {'origion': '高蛋白', 'ids': [372818], 'clean': '高蛋白', 'aspect': '健身', 'opinion': '高蛋白', 'aspect_opinion': '健身_高蛋白', 'topic': '健身人群对高蛋白产品的偏好'}, {'origion': '营养好', 'ids': [372848], 'clean': '营养好', 'aspect': '营养价值感知', 'opinion': '营养好', 'aspect_opinion': '营养价值感知_营养好', 'topic': '健康营养与信任感'}, {'origion': '低糖', 'ids': [372805], 'clean': '低糖', 'aspect': '口味口感', 'opinion': '低糖', 'aspect_opinion': '口味口感_低糖', 'topic': '口味与口感多样性'}, {'origion': '撒旦法', 'ids': [372822], 'clean': '撒旦法', 'aspect': '0蔗糖', 'opinion': '减糖适合减肥', 'aspect_opinion': '0蔗糖_减糖适合减肥', 'topic': '健康营养与信任感'}, {'origion': '撒旦法', 'ids': [372822], 'clean': '撒旦法', 'aspect': '健康', 'opinion': '减糖比较健康', 'aspect_opinion': '健康_减糖比较健康', 'topic': '健康营养与信任感'}, {'origion': '撒旦法', 'ids': [372822], 'clean': '撒旦法', 'aspect': '健康', 'opinion': '低糖健康', 'aspect_opinion': '健康_低糖健康', 'topic': '健康营养与信任感'}, {'origion': '减糖适合减肥', 'ids': [372802], 'clean': '减糖适合减肥', 'aspect': '口味口感', 'opinion': '好喝', 'aspect_opinion': '口味口感_好喝', 'topic': '口味与口感多样性'}, {'origion': '好喝', 'ids': [372798], 'clean': '好喝', 'aspect': '蛋白', 'opinion': '蛋白质高', 'aspect_opinion': '蛋白_蛋白质高', 'topic': '健身人群对高蛋白产品的偏好'}, {'origion': '减糖比较健康', 'ids': [372845], 'clean': '减糖比较健康', 'aspect': '包装美观', 'opinion': '小料包单独放口感会好', 'aspect_opinion': '包装美观_小料包单独放口感会好', 'topic': '包装美观吸引消费者'}, {'origion': '适合减脂期食用', 'ids': [372817], 'clean': '适合减脂期食用', 'aspect': '健身', 'opinion': '适合减脂期食用', 'aspect_opinion': '健身_适合减脂期食用', 'topic': '健康营养与信任感'}, {'origion': '口味丰富', 'ids': [372795], 'clean': '口味丰富', 'aspect': '口味口感', 'opinion': '口味丰富', 'aspect_opinion': '口味口感_口味丰富', 'topic': '口味与口感多样性'}, {'origion': '有助于消化', 'ids': [372823], 'clean': '有助于消化', 'aspect': '益生菌', 'opinion': '有助于消化', 'aspect_opinion': '益生菌_有助于消化', 'topic': '健康营养与信任感'}, {'origion': '新颖', 'ids': [372803, 372856], 'clean': '新颖', 'aspect': '独特性', 'opinion': '新颖', 'aspect_opinion': '独特性_新颖', 'topic': '独特性与新颖性'}, {'origion': '包装好看 可以尝试下', 'ids': [372824], 'clean': '包装好看可以尝试下', 'aspect': '包装美观', 'opinion': '包装好看可以尝试下', 'aspect_opinion': '包装美观_包装好看可以尝试下', 'topic': '包装美观吸引消费者'}, {'origion': '量符合吃的量', 'ids': [372829], 'clean': '量符合吃的量', 'aspect': '容量', 'opinion': '量符合吃的量', 'aspect_opinion': '容量_量符合吃的量', 'topic': '便捷与适量'}, {'origion': '喜欢蓝色包装', 'ids': [372806], 'clean': '喜欢蓝色包装', 'aspect': '包装美观', 'opinion': '喜欢蓝色包装', 'aspect_opinion': '包装美观_喜欢蓝色包装', 'topic': '包装美观吸引消费者'}, {'origion': '醒目 清晰', 'ids': [372807], 'clean': '醒目清晰', 'aspect': '包装美观', 'opinion': '醒目清晰', 'aspect_opinion': '包装美观_醒目清晰', 'topic': '包装美观吸引消费者'}, {'origion': '吸引注意', 'ids': [372835], 'clean': '吸引注意', 'aspect': '吸引力', 'opinion': '吸引注意', 'aspect_opinion': '吸引力_吸引注意', 'topic': '新品吸引力与趣味性'}, {'origion': '1', 'ids': [372813], 'clean': '', 'aspect': '无意义', 'opinion': '无意义', 'aspect_opinion': '无意义', 'topic': ''}, {'origion': '2', 'ids': [372810], 'clean': '', 'aspect': '无意义', 'opinion': '无意义', 'aspect_opinion': '无意义', 'topic': ''}, {'origion': '是否撒旦法撒旦法飞啊', 'ids': [372820], 'clean': '是否撒旦法撒旦法飞啊', 'aspect': '未知', 'opinion': '未知', 'aspect_opinion': '未知', 'topic': ''}, {'origion': '喜欢', 'ids': [372796], 'clean': '喜欢', 'aspect': '未知', 'opinion': '未知', 'aspect_opinion': '未知', 'topic': ''}, {'origion': '撒旦法萨法艾师傅啊', 'ids': [372825], 'clean': '撒旦法萨法艾师傅啊', 'aspect': '未知', 'opinion': '未知', 'aspect_opinion': '未知', 'topic': ''}, {'origion': '方法方法', 'ids': [372819], 'clean': '方法方法', 'aspect': '未知', 'opinion': '未知', 'aspect_opinion': '未知', 'topic': ''}, {'origion': '阿萨德发送到', 'ids': [372816], 'clean': '阿萨德发送到', 'aspect': '未知', 'opinion': '未知', 'aspect_opinion': '未知', 'topic': ''}, {'origion': '是否是打发斯蒂芬胜达发的飞', 'ids': [372857], 'clean': '是否是打发斯蒂芬胜达发的飞', 'aspect': '未知', 'opinion': '未知', 'aspect_opinion': '未知', 'topic': ''}, {'origion': '手动阀阿斯蒂芬艾师傅啊发发飞 ', 'ids': [372859], 'clean': '手动阀阿斯蒂芬艾师傅啊发发飞', 'aspect': '未知', 'opinion': '未知', 'aspect_opinion': '未知', 'topic': ''}, {'origion': '收到收到手阿斗但是', 'ids': [372851], 'clean': '收到收到手阿斗但是', 'aspect': '未知', 'opinion': '未知', 'aspect_opinion': '未知', 'topic': ''}, {'origion': '低糖健康', 'ids': [372792], 'clean': '低糖健康', 'aspect': '未知', 'opinion': '未知', 'aspect_opinion': '未知', 'topic': ''}, {'origion': '发生法术法电风扇安放啊安放', 'ids': [372855], 'clean': '发生法术法电风扇安放啊安放', 'aspect': '未知', 'opinion': '未知', 'aspect_opinion': '未知', 'topic': ''}, {'origion': '蛋白质高', 'ids': [372852], 'clean': '蛋白质高', 'aspect': '未知', 'opinion': '未知', 'aspect_opinion': '未知', 'topic': ''}, {'origion': '是打发斯蒂芬艾师傅鞍山啊', 'ids': [372815], 'clean': '是打发斯蒂芬艾师傅鞍山啊', 'aspect': '未知', 'opinion': '未知', 'aspect_opinion': '未知', 'topic': ''}, {'origion': '沙发是发沙发斯蒂芬阿萨德阿道夫', 'ids': [372853], 'clean': '沙发是发沙发斯蒂芬阿萨德阿道夫', 'aspect': '未知', 'opinion': '未知', 'aspect_opinion': '未知', 'topic': ''}, {'origion': '小料包单独放口感会好', 'ids': [372833], 'clean': '小料包单独放口感会好', 'aspect': '未知', 'opinion': '未知', 'aspect_opinion': '未知', 'topic': ''}, {'origion': '手动阀手动阀阿萨德', 'ids': [372811], 'clean': '手动阀手动阀阿萨德', 'aspect': '未知', 'opinion': '未知', 'aspect_opinion': '未知', 'topic': ''}, {'origion': 'The couch is throwing rice', 'ids': [372832], 'clean': 'Thecouchisthrowingrice', 'aspect': '未知', 'opinion': '未知', 'aspect_opinion': '未知', 'topic': ''}, {'origion': '是发发舒服阿萨法安放', 'ids': [372860], 'clean': '是发发舒服阿萨法安放', 'aspect': '未知', 'opinion': '未知', 'aspect_opinion': '未知', 'topic': ''}, {'origion': '似懂非懂萨法阿斯蒂芬阿萨德方法是', 'ids': [372830], 'clean': '似懂非懂萨法阿斯蒂芬阿萨德方法是', 'aspect': '未知', 'opinion': '未知', 'aspect_opinion': '未知', 'topic': ''}, {'origion': '撒旦法萨法阿斯蒂芬上大分鞍山', 'ids': [372841], 'clean': '撒旦法萨法阿斯蒂芬上大分鞍山', 'aspect': '未知', 'opinion': '未知', 'aspect_opinion': '未知', 'topic': ''}, {'origion': '阿萨德发射点发', 'ids': [372812], 'clean': '阿萨德发射点发', 'aspect': '未知', 'opinion': '未知', 'aspect_opinion': '未知', 'topic': ''}, {'origion': '是否艾师傅萨法是撒发放', 'ids': [372854], 'clean': '是否艾师傅萨法是撒发放', 'aspect': '未知', 'opinion': '未知', 'aspect_opinion': '未知', 'topic': ''}]}\n"
     ]
    }
   ],
   "source": [
    "\n",
    "import requests\n",
    "import json\n",
    "\n",
    "#url = \"http://localhost:8000/analyze\"\n",
    "url = \"http://ai-algorithm-llmydy-dev.dcin-test.digitalyili.com/analyze\"\n",
    "#url = \"http://ai-algorithm-llmydy.dcin.digitalyili.com/analyze\"\n",
    "payload = {\"emotionalType\":1,\"taskType\":1,\"wordInfos\":[{\"ids\":[372820],\"word\":\"是否撒旦法撒旦法飞啊\"},{\"ids\":[372796],\"word\":\"喜欢\"},{\"ids\":[372801],\"word\":\"这名字挺有意思\"},{\"ids\":[372825],\"word\":\"撒旦法萨法艾师傅啊\"},{\"ids\":[372789],\"word\":\"挺有意思\"},{\"ids\":[372800],\"word\":\"高蛋白适合我这种健身人群\"},{\"ids\":[372819],\"word\":\"方法方法\"},{\"ids\":[372844],\"word\":\"感觉很新奇，想要尝试\"},{\"ids\":[372816],\"word\":\"阿萨德发送到\"},{\"ids\":[372847],\"word\":\"方便在外面吃\"},{\"ids\":[372826],\"word\":\"品牌值得信赖\"},{\"ids\":[372809],\"word\":\"名字很新颖\"},{\"ids\":[372857],\"word\":\"是否是打发斯蒂芬胜达发的飞\"},{\"ids\":[372858],\"word\":\"方便\"},{\"ids\":[372821],\"word\":\"感觉层次很丰富\"},{\"ids\":[372827],\"word\":\"好吃又好玩\"},{\"ids\":[372813],\"word\":\"1\"},{\"ids\":[372804],\"word\":\"有跳跳糖\"},{\"ids\":[372810],\"word\":\"2\"},{\"ids\":[372828],\"word\":\"有场景\"},{\"ids\":[372793],\"word\":\"能够让我充分了解产品的味道\"},{\"ids\":[372842],\"word\":\"有趣\"},{\"ids\":[372859],\"word\":\"手动阀阿斯蒂芬艾师傅啊发发飞 \"},{\"ids\":[372794],\"word\":\"有特点\"},{\"ids\":[372831],\"word\":\"有意思\"},{\"ids\":[372814],\"word\":\"太甜\"},{\"ids\":[372851],\"word\":\"收到收到手阿斗但是\"},{\"ids\":[372818],\"word\":\"高蛋白\"},{\"ids\":[372848],\"word\":\"营养好\"},{\"ids\":[372805],\"word\":\"低糖\"},{\"ids\":[372822],\"word\":\"撒旦法\"},{\"ids\":[372802],\"word\":\"减糖适合减肥\"},{\"ids\":[372798],\"word\":\"好喝\"},{\"ids\":[372845],\"word\":\"减糖比较健康\"},{\"ids\":[372792],\"word\":\"低糖健康\"},{\"ids\":[372855],\"word\":\"发生法术法电风扇安放啊安放\"},{\"ids\":[372852],\"word\":\"蛋白质高\"},{\"ids\":[372815],\"word\":\"是打发斯蒂芬艾师傅鞍山啊\"},{\"ids\":[372853],\"word\":\"沙发是发沙发斯蒂芬阿萨德阿道夫\"},{\"ids\":[372833],\"word\":\"小料包单独放口感会好\"},{\"ids\":[372817],\"word\":\"适合减脂期食用\"},{\"ids\":[372811],\"word\":\"手动阀手动阀阿萨德\"},{\"ids\":[372795],\"word\":\"口味丰富\"},{\"ids\":[372832],\"word\":\"The couch is throwing rice\"},{\"ids\":[372823],\"word\":\"有助于消化\"},{\"ids\":[372860],\"word\":\"是发发舒服阿萨法安放\"},{\"ids\":[372803,372856],\"word\":\"新颖\"},{\"ids\":[372824],\"word\":\"包装好看 可以尝试下\"},{\"ids\":[372830],\"word\":\"似懂非懂萨法阿斯蒂芬阿萨德方法是\"},{\"ids\":[372829],\"word\":\"量符合吃的量\"},{\"ids\":[372841],\"word\":\"撒旦法萨法阿斯蒂芬上大分鞍山\"},{\"ids\":[372806],\"word\":\"喜欢蓝色包装\"},{\"ids\":[372812],\"word\":\"阿萨德发射点发\"},{\"ids\":[372807],\"word\":\"醒目 清晰\"},{\"ids\":[372854],\"word\":\"是否艾师傅萨法是撒发放\"},{\"ids\":[372835],\"word\":\"吸引注意\"}]}\n",
    "headers = {\n",
    "    'accept': 'application/json',\n",
    "    'Content-Type': 'application/json'\n",
    "}\n",
    "\n",
    "response = requests.post(url, headers=headers, data=json.dumps(payload))\n",
    "\n",
    "print(response.json())"
   ]
  },
  {
   "cell_type": "markdown",
   "metadata": {},
   "source": []
  },
  {
   "cell_type": "code",
   "execution_count": null,
   "metadata": {},
   "outputs": [],
   "source": [
    "import pandas as pd\n",
    "pd.DataFrame(response.json()['result'])"
   ]
  },
  {
   "cell_type": "code",
   "execution_count": 35,
   "metadata": {},
   "outputs": [
    {
     "ename": "TypeError",
     "evalue": "unhashable type: 'list'",
     "output_type": "error",
     "traceback": [
      "\u001b[1;31m---------------------------------------------------------------------------\u001b[0m",
      "\u001b[1;31mTypeError\u001b[0m                                 Traceback (most recent call last)",
      "Cell \u001b[1;32mIn[35], line 2\u001b[0m\n\u001b[0;32m      1\u001b[0m a \u001b[38;5;241m=\u001b[39m [[\u001b[38;5;241m1\u001b[39m, \u001b[38;5;241m2\u001b[39m, \u001b[38;5;241m3\u001b[39m], [\u001b[38;5;241m2\u001b[39m, \u001b[38;5;241m3\u001b[39m, \u001b[38;5;241m4\u001b[39m], [\u001b[38;5;241m1\u001b[39m, \u001b[38;5;241m5\u001b[39m]]\n\u001b[1;32m----> 2\u001b[0m \u001b[38;5;28;43mset\u001b[39;49m\u001b[43m(\u001b[49m\u001b[43ma\u001b[49m\u001b[43m)\u001b[49m\n",
      "\u001b[1;31mTypeError\u001b[0m: unhashable type: 'list'"
     ]
    }
   ],
   "source": [
    "a = [[1, 2, 3], [2, 3, 4], [1, 5]]\n",
    "set(a)"
   ]
  },
  {
   "cell_type": "code",
   "execution_count": null,
   "metadata": {},
   "outputs": [],
   "source": []
  }
 ],
 "metadata": {
  "kernelspec": {
   "display_name": "Python 3",
   "language": "python",
   "name": "python3"
  },
  "language_info": {
   "codemirror_mode": {
    "name": "ipython",
    "version": 3
   },
   "file_extension": ".py",
   "mimetype": "text/x-python",
   "name": "python",
   "nbconvert_exporter": "python",
   "pygments_lexer": "ipython3",
   "version": "3.11.4"
  }
 },
 "nbformat": 4,
 "nbformat_minor": 2
}
