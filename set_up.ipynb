{
 "cells": [
  {
   "cell_type": "code",
   "execution_count": 53,
   "metadata": {},
   "outputs": [
    {
     "name": "stdout",
     "output_type": "stream",
     "text": [
      "{'status_code': 200, 'status_message': 'Analysis completed successfully', 'result': [{'origion': '蛋白质含量高，很适合健身人群', 'ids': [1], 'clean': '蛋白质含量高，很适合健身人群', 'dimension': '营养价值感知', 'reason': '蛋白质含量高', 'dim_reason': '营养价值感知_蛋白质含量高', 'topic': '高蛋白质含量营养价值'}, {'origion': '蛋白质含量高，很适合健身人群', 'ids': [1, 2], 'clean': '蛋白质含量高，很适合健身人群', 'dimension': '营养价值感知', 'reason': '蛋白质含量高', 'dim_reason': '营养价值感知_蛋白质含量高', 'topic': '高蛋白质含量营养价值'}, {'origion': '', 'ids': [3, 4], 'clean': '', 'dimension': '无意义', 'reason': '无意义', 'dim_reason': '无意义', 'topic': '无意义'}]}\n"
     ]
    }
   ],
   "source": [
    "\n",
    "import requests\n",
    "import json\n",
    "\n",
    "url = \"http://localhost:8000/analyze\"\n",
    "payload = {\n",
    "    \"emotionalType\": 1,  # 非法值，应该是 0, 1, 或 2\n",
    "    \"taskType\": 2,    # None 值，应该是 0, 1, 2, 或 3\n",
    "    \"wordInfos\": [\n",
    "        {\n",
    "            \"ids\": [1],  # 空列表，应该包含至少一个整数\n",
    "            \"word\": \"蛋白质含量高，很适合健身人群\"  # None 值，应该是一个非空字符串\n",
    "        },\n",
    "        {\n",
    "            \"ids\": [1, 2],\n",
    "            \"word\": \"蛋白质含量高，很适合健身人群\"\n",
    "        },\n",
    "        {\n",
    "            \"ids\": [4, 2],\n",
    "            \"word\": \"蛋白质含量高，健身人群\"\n",
    "        },\n",
    "        {\n",
    "            \"ids\": [3, 4],\n",
    "            \"word\": \"\"\n",
    "        }\n",
    "    ]\n",
    "}\n",
    "\n",
    "headers = {\n",
    "    'accept': 'application/json',\n",
    "    'Content-Type': 'application/json'\n",
    "}\n",
    "\n",
    "response = requests.post(url, headers=headers, data=json.dumps(payload))\n",
    "\n",
    "print(response.json())"
   ]
  },
  {
   "cell_type": "markdown",
   "metadata": {},
   "source": []
  },
  {
   "cell_type": "code",
   "execution_count": null,
   "metadata": {},
   "outputs": [],
   "source": [
    "import pandas as pd\n",
    "pd.DataFrame(response.json()['result'])"
   ]
  },
  {
   "cell_type": "code",
   "execution_count": 35,
   "metadata": {},
   "outputs": [
    {
     "ename": "TypeError",
     "evalue": "unhashable type: 'list'",
     "output_type": "error",
     "traceback": [
      "\u001b[1;31m---------------------------------------------------------------------------\u001b[0m",
      "\u001b[1;31mTypeError\u001b[0m                                 Traceback (most recent call last)",
      "Cell \u001b[1;32mIn[35], line 2\u001b[0m\n\u001b[0;32m      1\u001b[0m a \u001b[38;5;241m=\u001b[39m [[\u001b[38;5;241m1\u001b[39m, \u001b[38;5;241m2\u001b[39m, \u001b[38;5;241m3\u001b[39m], [\u001b[38;5;241m2\u001b[39m, \u001b[38;5;241m3\u001b[39m, \u001b[38;5;241m4\u001b[39m], [\u001b[38;5;241m1\u001b[39m, \u001b[38;5;241m5\u001b[39m]]\n\u001b[1;32m----> 2\u001b[0m \u001b[38;5;28;43mset\u001b[39;49m\u001b[43m(\u001b[49m\u001b[43ma\u001b[49m\u001b[43m)\u001b[49m\n",
      "\u001b[1;31mTypeError\u001b[0m: unhashable type: 'list'"
     ]
    }
   ],
   "source": [
    "a = [[1, 2, 3], [2, 3, 4], [1, 5]]\n",
    "set(a)"
   ]
  },
  {
   "cell_type": "code",
   "execution_count": null,
   "metadata": {},
   "outputs": [],
   "source": []
  }
 ],
 "metadata": {
  "kernelspec": {
   "display_name": "Python 3",
   "language": "python",
   "name": "python3"
  },
  "language_info": {
   "codemirror_mode": {
    "name": "ipython",
    "version": 3
   },
   "file_extension": ".py",
   "mimetype": "text/x-python",
   "name": "python",
   "nbconvert_exporter": "python",
   "pygments_lexer": "ipython3",
   "version": "3.11.4"
  }
 },
 "nbformat": 4,
 "nbformat_minor": 2
}
