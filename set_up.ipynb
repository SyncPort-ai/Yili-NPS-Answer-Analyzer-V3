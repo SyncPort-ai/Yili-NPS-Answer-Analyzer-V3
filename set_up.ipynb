{
 "cells": [
  {
   "cell_type": "code",
   "execution_count": 1,
   "metadata": {},
   "outputs": [
    {
     "name": "stdout",
     "output_type": "stream",
     "text": [
      "{'status_code': 200, 'status_message': '分析成功完成', 'result': [{'origion': '产品质量很好', 'ids': [1], 'clean': '产品质量很好', 'aspect': '质量', 'opinion': '产品质量很好', 'aspect_opinion': '质量_产品质量很好', 'topic': '产品质量和设计评价混杂'}, {'origion': '服务态度不错', 'ids': [3], 'clean': '服务态度不错', 'aspect': '服务', 'opinion': '服务态度不错', 'aspect_opinion': '服务_服务态度不错', 'topic': '服务态度与客服体验'}, {'origion': '物流速度很快', 'ids': [4], 'clean': '物流速度很快', 'aspect': '物流', 'opinion': '物流速度很快', 'aspect_opinion': '物流_物流速度很快', 'topic': '物流效率评价'}, {'origion': '包装不够好', 'ids': [5], 'clean': '包装不够好', 'aspect': '包装', 'opinion': '包装不够好', 'aspect_opinion': '包装_包装不够好', 'topic': '包装与设计问题'}, {'origion': '使用体验很差', 'ids': [6], 'clean': '使用体验很差', 'aspect': '未知', 'opinion': '使用体验很差', 'aspect_opinion': '未知_使用体验很差', 'topic': '使用体验反馈'}, {'origion': '颜色很漂亮', 'ids': [7], 'clean': '颜色很漂亮', 'aspect': '颜色', 'opinion': '颜色很漂亮', 'aspect_opinion': '颜色_颜色很漂亮', 'topic': '颜色与设计评价'}, {'origion': '功能很强大', 'ids': [8], 'clean': '功能很强大', 'aspect': '功能', 'opinion': '功能很强大', 'aspect_opinion': '功能_功能很强大', 'topic': '功能评价'}, {'origion': '操作很简单', 'ids': [9], 'clean': '操作很简单', 'aspect': '操作', 'opinion': '操作很简单', 'aspect_opinion': '操作_操作很简单', 'topic': '操作体验反馈'}, {'origion': '售后服务很差', 'ids': [10], 'clean': '售后服务很差', 'aspect': '售后', 'opinion': '售后服务很差', 'aspect_opinion': '售后_售后服务很差', 'topic': '售后服务质量评价'}, {'origion': '产品设计很时尚', 'ids': [11], 'clean': '产品设计很时尚', 'aspect': '设计', 'opinion': '产品设计很时尚', 'aspect_opinion': '设计_产品设计很时尚', 'topic': '产品质量和设计评价混杂'}, {'origion': '质量一般', 'ids': [12], 'clean': '质量一般', 'aspect': '质量', 'opinion': '质量一般', 'aspect_opinion': '质量_质量一般', 'topic': '产品质量和设计评价混杂'}, {'origion': '价格合理', 'ids': [13], 'clean': '价格合理', 'aspect': '价格', 'opinion': '价格合理', 'aspect_opinion': '价格_价格合理', 'topic': '价格反馈'}, {'origion': '客服态度很好', 'ids': [14], 'clean': '客服态度很好', 'aspect': '服务', 'opinion': '客服态度很好', 'aspect_opinion': '服务_客服态度很好', 'topic': '服务态度与客服体验'}, {'origion': '物流很慢', 'ids': [15], 'clean': '物流很慢', 'aspect': '物流', 'opinion': '物流很慢', 'aspect_opinion': '物流_物流很慢', 'topic': '物流效率评价'}, {'origion': '包装很好', 'ids': [16], 'clean': '包装很好', 'aspect': '包装', 'opinion': '包装很好', 'aspect_opinion': '包装_包装很好', 'topic': '包装评价'}, {'origion': '使用体验很好', 'ids': [17], 'clean': '使用体验很好', 'aspect': '使用体验', 'opinion': '使用体验很好', 'aspect_opinion': '使用体验_使用体验很好', 'topic': '使用体验反馈'}, {'origion': '颜色不好看', 'ids': [18], 'clean': '颜色不好看', 'aspect': '颜色', 'opinion': '颜色不好看', 'aspect_opinion': '颜色_颜色不好看', 'topic': '颜色与设计评价'}, {'origion': '功能很少', 'ids': [19], 'clean': '功能很少', 'aspect': '功能', 'opinion': '功能很少', 'aspect_opinion': '功能_功能很少', 'topic': '功能评价'}, {'origion': '操作复杂', 'ids': [20], 'clean': '操作复杂', 'aspect': '操作', 'opinion': '操作复杂', 'aspect_opinion': '操作_操作复杂', 'topic': '操作体验反馈'}, {'origion': '售后服务很好', 'ids': [21], 'clean': '售后服务很好', 'aspect': '售后', 'opinion': '售后服务很好', 'aspect_opinion': '售后_售后服务很好', 'topic': '售后服务质量评价'}, {'origion': '产品设计很普通', 'ids': [22], 'clean': '产品设计很普通', 'aspect': '设计', 'opinion': '产品设计很普通', 'aspect_opinion': '设计_产品设计很普通', 'topic': '颜色与设计评价'}, {'origion': '质量很差', 'ids': [23], 'clean': '质量很差', 'aspect': '质量', 'opinion': '质量很差', 'aspect_opinion': '质量_质量很差', 'topic': '产品质量和设计评价混杂'}, {'origion': '价格太低了', 'ids': [24], 'clean': '价格太低了', 'aspect': '价格', 'opinion': '价格太低了', 'aspect_opinion': '价格_价格太低了', 'topic': '价格反馈'}, {'origion': '客服态度很差', 'ids': [25], 'clean': '客服态度很差', 'aspect': '服务', 'opinion': '客服态度很差', 'aspect_opinion': '服务_客服态度很差', 'topic': '服务态度与客服体验'}, {'origion': '物流速度一般', 'ids': [26], 'clean': '物流速度一般', 'aspect': '物流', 'opinion': '物流速度一般', 'aspect_opinion': '物流_物流速度一般', 'topic': '物流效率评价'}, {'origion': '包装一般', 'ids': [27], 'clean': '包装一般', 'aspect': '包装', 'opinion': '包装一般', 'aspect_opinion': '包装_包装一般', 'topic': '包装评价'}, {'origion': '使用体验一般', 'ids': [28], 'clean': '使用体验一般', 'aspect': '使用体验', 'opinion': '使用体验一般', 'aspect_opinion': '使用体验_使用体验一般', 'topic': '使用体验反馈'}, {'origion': '颜色很普通', 'ids': [29], 'clean': '颜色很普通', 'aspect': '颜色', 'opinion': '颜色很普通', 'aspect_opinion': '颜色_颜色很普通', 'topic': '颜色与设计评价'}, {'origion': '功能一般', 'ids': [30], 'clean': '功能一般', 'aspect': '功能', 'opinion': '功能一般', 'aspect_opinion': '功能_功能一般', 'topic': '功能评价'}, {'origion': '操作一般', 'ids': [31], 'clean': '操作一般', 'aspect': '操作', 'opinion': '操作一般', 'aspect_opinion': '操作_操作一般', 'topic': '操作体验反馈'}, {'origion': '售后服务一般', 'ids': [32], 'clean': '售后服务一般', 'aspect': '售后', 'opinion': '售后服务一般', 'aspect_opinion': '售后_售后服务一般', 'topic': '售后服务质量评价'}, {'origion': '产品设计很差', 'ids': [33], 'clean': '产品设计很差', 'aspect': '设计', 'opinion': '产品设计很差', 'aspect_opinion': '设计_产品设计很差', 'topic': '包装与设计问题'}, {'origion': '质量很好', 'ids': [34], 'clean': '质量很好', 'aspect': '质量', 'opinion': '质量很好', 'aspect_opinion': '质量_质量很好', 'topic': '产品质量和设计评价混杂'}, {'origion': '价格很高', 'ids': [35], 'clean': '价格很高', 'aspect': '价格', 'opinion': '价格很高', 'aspect_opinion': '价格_价格很高', 'topic': '价格反馈'}, {'origion': '客服态度一般', 'ids': [36], 'clean': '客服态度一般', 'aspect': '客服', 'opinion': '客服态度一般', 'aspect_opinion': '客服_客服态度一般', 'topic': '服务态度与客服体验'}, {'origion': '物流速度很慢', 'ids': [37], 'clean': '物流速度很慢', 'aspect': '物流', 'opinion': '物流速度很慢', 'aspect_opinion': '物流_物流速度很慢', 'topic': '物流效率评价'}, {'origion': '包装很差', 'ids': [38], 'clean': '包装很差', 'aspect': '包装', 'opinion': '包装很差', 'aspect_opinion': '包装_包装很差', 'topic': '包装与设计问题'}, {'origion': '使用体验很棒', 'ids': [39], 'clean': '使用体验很棒', 'aspect': '使用体验', 'opinion': '使用体验很棒', 'aspect_opinion': '使用体验_使用体验很棒', 'topic': '使用体验反馈'}, {'origion': '颜色很差', 'ids': [40], 'clean': '颜色很差', 'aspect': '颜色', 'opinion': '颜色很差', 'aspect_opinion': '颜色_颜色很差', 'topic': '颜色与设计评价'}, {'origion': '功能很棒', 'ids': [41], 'clean': '功能很棒', 'aspect': '功能', 'opinion': '功能很棒', 'aspect_opinion': '功能_功能很棒', 'topic': '功能评价'}, {'origion': '操作很棒', 'ids': [42], 'clean': '操作很棒', 'aspect': '操作', 'opinion': '操作很棒', 'aspect_opinion': '操作_操作很棒', 'topic': '操作体验反馈'}, {'origion': '售后服务很棒', 'ids': [43], 'clean': '售后服务很棒', 'aspect': '售后', 'opinion': '售后服务很棒', 'aspect_opinion': '售后_售后服务很棒', 'topic': '售后服务质量评价'}, {'origion': '产品设计很棒', 'ids': [44], 'clean': '产品设计很棒', 'aspect': '设计', 'opinion': '产品设计很棒', 'aspect_opinion': '设计_产品设计很棒', 'topic': '产品质量和设计评价混杂'}, {'origion': '质量很棒', 'ids': [45], 'clean': '质量很棒', 'aspect': '质量', 'opinion': '质量很棒', 'aspect_opinion': '质量_质量很棒', 'topic': '产品质量和设计评价混杂'}, {'origion': '价格很棒', 'ids': [46], 'clean': '价格很棒', 'aspect': '价格', 'opinion': '价格很棒', 'aspect_opinion': '价格_价格很棒', 'topic': '价格反馈'}, {'origion': '客服态度很棒', 'ids': [47], 'clean': '客服态度很棒', 'aspect': '客服', 'opinion': '客服态度很棒', 'aspect_opinion': '客服_客服态度很棒', 'topic': '服务态度与客服体验'}, {'origion': '物流速度很棒', 'ids': [48], 'clean': '物流速度很棒', 'aspect': '物流', 'opinion': '物流速度很棒', 'aspect_opinion': '物流_物流速度很棒', 'topic': '物流效率评价'}, {'origion': '包装很棒', 'ids': [49], 'clean': '包装很棒', 'aspect': '包装', 'opinion': '包装很棒', 'aspect_opinion': '包装_包装很棒', 'topic': '包装评价'}, {'origion': '使用体验很棒', 'ids': [50], 'clean': '使用体验很棒', 'aspect': '使用体验', 'opinion': '使用体验很棒', 'aspect_opinion': '使用体验_使用体验很棒', 'topic': '使用体验反馈'}, {'origion': '价格太高了', 'ids': [2], 'clean': '价格太高了', 'aspect': '未知', 'opinion': '未知', 'aspect_opinion': '未知', 'topic': ''}]}\n"
     ]
    }
   ],
   "source": [
    "\n",
    "import requests\n",
    "import json\n",
    "\n",
    "#url = \"https://ai-algorithm-llmydy-dev.dcin-test.digitalyili.com/analyze\"\n",
    "url = \"http://ai-algorithm-llmydy.dcin.digitalyili.com/analyze\"\n",
    "payload = {\n",
    "    \"emotionalType\": 1,\n",
    "    \"taskType\": 2,\n",
    "    \"wordInfos\": [\n",
    "        {\"ids\": [1], \"word\": \"产品质量很好\"},\n",
    "        {\"ids\": [2], \"word\": \"价格太高了\"},\n",
    "        {\"ids\": [3], \"word\": \"服务态度不错\"},\n",
    "        {\"ids\": [4], \"word\": \"物流速度很快\"},\n",
    "        {\"ids\": [5], \"word\": \"包装不够好\"},\n",
    "        {\"ids\": [6], \"word\": \"使用体验很差\"},\n",
    "        {\"ids\": [7], \"word\": \"颜色很漂亮\"},\n",
    "        {\"ids\": [8], \"word\": \"功能很强大\"},\n",
    "        {\"ids\": [9], \"word\": \"操作很简单\"},\n",
    "        {\"ids\": [10], \"word\": \"售后服务很差\"},\n",
    "        {\"ids\": [11], \"word\": \"产品设计很时尚\"},\n",
    "        {\"ids\": [12], \"word\": \"质量一般\"},\n",
    "        {\"ids\": [13], \"word\": \"价格合理\"},\n",
    "        {\"ids\": [14], \"word\": \"客服态度很好\"},\n",
    "        {\"ids\": [15], \"word\": \"物流很慢\"},\n",
    "        {\"ids\": [16], \"word\": \"包装很好\"},\n",
    "        {\"ids\": [17], \"word\": \"使用体验很好\"},\n",
    "        {\"ids\": [18], \"word\": \"颜色不好看\"},\n",
    "        {\"ids\": [19], \"word\": \"功能很少\"},\n",
    "        {\"ids\": [20], \"word\": \"操作复杂\"},\n",
    "        {\"ids\": [21], \"word\": \"售后服务很好\"},\n",
    "        {\"ids\": [22], \"word\": \"产品设计很普通\"},\n",
    "        {\"ids\": [23], \"word\": \"质量很差\"},\n",
    "        {\"ids\": [24], \"word\": \"价格太低了\"},\n",
    "        {\"ids\": [25], \"word\": \"客服态度很差\"},\n",
    "        {\"ids\": [26], \"word\": \"物流速度一般\"},\n",
    "        {\"ids\": [27], \"word\": \"包装一般\"},\n",
    "        {\"ids\": [28], \"word\": \"使用体验一般\"},\n",
    "        {\"ids\": [29], \"word\": \"颜色很普通\"},\n",
    "        {\"ids\": [30], \"word\": \"功能一般\"},\n",
    "        {\"ids\": [31], \"word\": \"操作一般\"},\n",
    "        {\"ids\": [32], \"word\": \"售后服务一般\"},\n",
    "        {\"ids\": [33], \"word\": \"产品设计很差\"},\n",
    "        {\"ids\": [34], \"word\": \"质量很好\"},\n",
    "        {\"ids\": [35], \"word\": \"价格很高\"},\n",
    "        {\"ids\": [36], \"word\": \"客服态度一般\"},\n",
    "        {\"ids\": [37], \"word\": \"物流速度很慢\"},\n",
    "        {\"ids\": [38], \"word\": \"包装很差\"},\n",
    "        {\"ids\": [39], \"word\": \"使用体验很棒\"},\n",
    "        {\"ids\": [40], \"word\": \"颜色很差\"},\n",
    "        {\"ids\": [41], \"word\": \"功能很棒\"},\n",
    "        {\"ids\": [42], \"word\": \"操作很棒\"},\n",
    "        {\"ids\": [43], \"word\": \"售后服务很棒\"},\n",
    "        {\"ids\": [44], \"word\": \"产品设计很棒\"},\n",
    "        {\"ids\": [45], \"word\": \"质量很棒\"},\n",
    "        {\"ids\": [46], \"word\": \"价格很棒\"},\n",
    "        {\"ids\": [47], \"word\": \"客服态度很棒\"},\n",
    "        {\"ids\": [48], \"word\": \"物流速度很棒\"},\n",
    "        {\"ids\": [49], \"word\": \"包装很棒\"},\n",
    "        {\"ids\": [50], \"word\": \"使用体验很棒\"}\n",
    "    ]\n",
    "}\n",
    "\n",
    "headers = {\n",
    "    'accept': 'application/json',\n",
    "    'Content-Type': 'application/json'\n",
    "}\n",
    "\n",
    "response = requests.post(url, headers=headers, data=json.dumps(payload))\n",
    "\n",
    "print(response.json())"
   ]
  },
  {
   "cell_type": "markdown",
   "metadata": {},
   "source": []
  },
  {
   "cell_type": "code",
   "execution_count": null,
   "metadata": {},
   "outputs": [],
   "source": [
    "import pandas as pd\n",
    "pd.DataFrame(response.json()['result'])"
   ]
  },
  {
   "cell_type": "code",
   "execution_count": 35,
   "metadata": {},
   "outputs": [
    {
     "ename": "TypeError",
     "evalue": "unhashable type: 'list'",
     "output_type": "error",
     "traceback": [
      "\u001b[1;31m---------------------------------------------------------------------------\u001b[0m",
      "\u001b[1;31mTypeError\u001b[0m                                 Traceback (most recent call last)",
      "Cell \u001b[1;32mIn[35], line 2\u001b[0m\n\u001b[0;32m      1\u001b[0m a \u001b[38;5;241m=\u001b[39m [[\u001b[38;5;241m1\u001b[39m, \u001b[38;5;241m2\u001b[39m, \u001b[38;5;241m3\u001b[39m], [\u001b[38;5;241m2\u001b[39m, \u001b[38;5;241m3\u001b[39m, \u001b[38;5;241m4\u001b[39m], [\u001b[38;5;241m1\u001b[39m, \u001b[38;5;241m5\u001b[39m]]\n\u001b[1;32m----> 2\u001b[0m \u001b[38;5;28;43mset\u001b[39;49m\u001b[43m(\u001b[49m\u001b[43ma\u001b[49m\u001b[43m)\u001b[49m\n",
      "\u001b[1;31mTypeError\u001b[0m: unhashable type: 'list'"
     ]
    }
   ],
   "source": [
    "a = [[1, 2, 3], [2, 3, 4], [1, 5]]\n",
    "set(a)"
   ]
  },
  {
   "cell_type": "code",
   "execution_count": null,
   "metadata": {},
   "outputs": [],
   "source": []
  }
 ],
 "metadata": {
  "kernelspec": {
   "display_name": "Python 3",
   "language": "python",
   "name": "python3"
  },
  "language_info": {
   "codemirror_mode": {
    "name": "ipython",
    "version": 3
   },
   "file_extension": ".py",
   "mimetype": "text/x-python",
   "name": "python",
   "nbconvert_exporter": "python",
   "pygments_lexer": "ipython3",
   "version": "3.11.4"
  }
 },
 "nbformat": 4,
 "nbformat_minor": 2
}
